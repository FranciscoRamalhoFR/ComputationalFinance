{
 "cells": [
  {
   "cell_type": "markdown",
   "metadata": {
    "tags": []
   },
   "source": [
    "<h1><center> COMPUTATIONAL FINANCE - YIELD CURVE BOOTSTRAP</center></h1> \n",
    "<h3><center> In this notebook given a set o Treasury Government bonds I will create a yield curve, calculate discount factors, spot and forward rates. I will also explore various methods to bootstrap the yield curve. </center></h3>\n",
    "<h5><center> Francisco Ramalho </center></h5> \n",
    "<h5><center> October 2020 </center></h5> "
   ]
  },
  {
   "cell_type": "markdown",
   "metadata": {},
   "source": [
    "-------------------------------------------------------------"
   ]
  },
  {
   "cell_type": "markdown",
   "metadata": {},
   "source": [
    "## Considering the following bond market information for a set of Treasury government bonds:"
   ]
  },
  {
   "cell_type": "markdown",
   "metadata": {},
   "source": [
    "| Bond | Coupon rate | Coupon frequency | Maturity (years) | Dirty-price (% of par value)\n",
    "| :-: | :-: | :-: | :-: | :-: |\n",
    "| 1 | 1.50% | Annual | 1 | 96.60 |\n",
    "| 2 | 1.75% | Annual | 2 | 93.71 |\n",
    "| 3 | 2.00% | Annual | 3 | 91.56 |\n",
    "| 4 | 2.25% | Annual | 4 | 90.24 |\n",
    "| 5 | 2.50% | Annual | 5 | 89.74 |\n",
    "| 6 | 2.75% | Annual | 6 | 90.04 |\n",
    "| 7 | 3.00% | Annual | 7 | 91.09 |\n",
    "| 8 | 3.25% | Annual | 8 | 92.82 |\n",
    "| 9 | 3.50% | Annual | 9 | 95.19 |\n",
    "| 10 | 3.75% | Annual | 10 | 98.14 |\n"
   ]
  },
  {
   "cell_type": "markdown",
   "metadata": {
    "colab_type": "text",
    "id": "Xv1W_urXnV6c"
   },
   "source": [
    "<h3 style='color:#5F6A6E' > Index:</h3>\n",
    "\n",
    "<strong >1a.</strong> [Building a class called YieldCurve that will receive an array with information on maturity, price and coupon for n bonds (n x 3)](#section1) <p>\n",
    "<strong>1b.</strong> [Adding a method that will bootstrap the discount factors using matrix operations](#section2) <p>\n",
    "<strong>1c.</strong> [Adding a method that will bootstrap the discount factors using a global solver](#section3) <p>\n",
    "<strong>1d.</strong> [Adding a method that will bootstrap the discount factors using an iterative procedure](#section4) <p>\n",
    "<strong>2.</strong> [Determining the spot rate (annual compounding) for each maturity from the calculated discount factors and plotting them](#section5)<p>\n",
    "<strong>3.</strong> [Determining the YTM for each bond and plotting them](#section6) <p>\n",
    "<strong>4.</strong> [Determining the 1y forward rate starting in each of the years from 1 to 9 and plotting them](#section7) <p>\n",
    "<strong>5.</strong> [Making a plot of the spot rates, yields and forward rates with a legend identifying the series](#section8) <p>\n",
    "    "
   ]
  },
  {
   "cell_type": "markdown",
   "metadata": {
    "tags": []
   },
   "source": [
    "<a id=\"section1\">\n",
    "<h3 style='color:#5F6A6E' > 1. Building a class called YieldCurve and the 3 different method that will bootstrap the discount factors</h3>\n",
    "    <a id=\"section2\">\n",
    "        <a id=\"section3\">\n",
    "            <a id=\"section4\">"
   ]
  },
  {
   "cell_type": "code",
   "execution_count": 1,
   "metadata": {},
   "outputs": [
    {
     "data": {
      "text/plain": [
       "array([[1.000e+00, 1.500e-02, 9.660e+01],\n",
       "       [2.000e+00, 1.750e-02, 9.371e+01],\n",
       "       [3.000e+00, 2.000e-02, 9.156e+01],\n",
       "       [4.000e+00, 2.250e-02, 9.024e+01],\n",
       "       [5.000e+00, 2.500e-02, 8.974e+01],\n",
       "       [6.000e+00, 2.750e-02, 9.004e+01],\n",
       "       [7.000e+00, 3.000e-02, 9.109e+01],\n",
       "       [8.000e+00, 3.250e-02, 9.282e+01],\n",
       "       [9.000e+00, 3.500e-02, 9.519e+01],\n",
       "       [1.000e+01, 3.750e-02, 9.814e+01]])"
      ]
     },
     "execution_count": 1,
     "metadata": {},
     "output_type": "execute_result"
    }
   ],
   "source": [
    "import numpy as np\n",
    "import scipy.optimize as optimize\n",
    "import matplotlib.pyplot as plt\n",
    "\n",
    "#      bond = [matirity , coupon , price]\n",
    "data = np.array([(1,0.015,96.6),\n",
    "                 (2,0.0175,93.71),\n",
    "                 (3,0.02,91.56),\n",
    "                 (4,0.0225,90.24),\n",
    "                 (5,0.025,89.74),\n",
    "                 (6,0.0275,90.04),\n",
    "                 (7,0.03,91.09),\n",
    "                 (8,0.0325,92.82),\n",
    "                 (9,0.035,95.19),\n",
    "                 (10,0.0375,98.14)])\n",
    "data"
   ]
  },
  {
   "cell_type": "code",
   "execution_count": 2,
   "metadata": {},
   "outputs": [],
   "source": [
    "# 1a.  \n",
    "class YieldCurve():\n",
    "    def __init__(self,C):\n",
    "        self.maturity = C[:,0]\n",
    "        self.coupon = C[:,1]\n",
    "        self.price = C[:,2]\n",
    "\n",
    "\n",
    "    # assuming that we have a bond for each maturity and bonds pay coupons on the same date, i.e the cashflow matrix is lower triangular\n",
    "    def CashflowMatrix(self):\n",
    "        n=len(self.maturity) #matrix dimension\n",
    "        Matrix=np.tri(n) * self.coupon.reshape(-1,1)*100 + np.eye(n) * 100\n",
    "        return Matrix\n",
    "\n",
    "    # method that return each bond in the object\n",
    "    def Bonds(self):\n",
    "        return np.array([self.maturity, self.coupon, self.price]).T\n",
    "\n",
    "# 1b.\n",
    "    def BootstrapMatrixOperations(self):\n",
    "        return np.linalg.solve(self.CashflowMatrix(),self.price)   # Ax=B => x = A^-1 . B\n",
    "\n",
    "    #same method but with matrix operations explicit\n",
    "    def BootstrapMatrixOperations2(self):\n",
    "        return np.linalg.inv(self.CashflowMatrix()) @ self.price\n",
    "    \n",
    "    \n",
    "# 1c.\n",
    "    def BootstrapGlobalSolver(self):\n",
    "        df_guess=np.zeros(len(self.Bonds()))\n",
    "        def error(df):\n",
    "            return np.sum((self.CashflowMatrix() @ df - self.price)**2)\n",
    "        df=optimize.minimize(error, df_guess)\n",
    "        return df.x\n",
    "\n",
    "\n",
    "# 1d.    \n",
    "    def BootstrapIterative(self):\n",
    "        df=np.zeros(len(self.Bonds())) #inicializa vector para guardar os DF\n",
    "        for bond in self.Bonds():\n",
    "            maturity=int(bond[0])\n",
    "            coupon=bond[1]\n",
    "            price=bond[2]\n",
    "            \n",
    "            DiscountedCashflows = sum([coupon*df[n] for n in range(maturity -1)])\n",
    "            f = lambda z : DiscountedCashflows + (1+coupon)*z - price/100 #nos inputs o preco esta definido como percentagem do par value\n",
    "            zero = optimize.newton(f, 0)\n",
    "            \n",
    "            df[int(maturity)-1] = zero\n",
    "        return df\n"
   ]
  },
  {
   "cell_type": "markdown",
   "metadata": {},
   "source": [
    "##### Creating a Yield Curve to test the class and methods created:"
   ]
  },
  {
   "cell_type": "code",
   "execution_count": 3,
   "metadata": {},
   "outputs": [
    {
     "data": {
      "text/plain": [
       "<__main__.YieldCurve at 0x198f4710a90>"
      ]
     },
     "execution_count": 3,
     "metadata": {},
     "output_type": "execute_result"
    }
   ],
   "source": [
    "GovernmentBonds=YieldCurve(data)\n",
    "GovernmentBonds"
   ]
  },
  {
   "cell_type": "code",
   "execution_count": 4,
   "metadata": {
    "scrolled": true
   },
   "outputs": [
    {
     "data": {
      "text/plain": [
       "array([[1.000e+00, 1.500e-02, 9.660e+01],\n",
       "       [2.000e+00, 1.750e-02, 9.371e+01],\n",
       "       [3.000e+00, 2.000e-02, 9.156e+01],\n",
       "       [4.000e+00, 2.250e-02, 9.024e+01],\n",
       "       [5.000e+00, 2.500e-02, 8.974e+01],\n",
       "       [6.000e+00, 2.750e-02, 9.004e+01],\n",
       "       [7.000e+00, 3.000e-02, 9.109e+01],\n",
       "       [8.000e+00, 3.250e-02, 9.282e+01],\n",
       "       [9.000e+00, 3.500e-02, 9.519e+01],\n",
       "       [1.000e+01, 3.750e-02, 9.814e+01]])"
      ]
     },
     "execution_count": 4,
     "metadata": {},
     "output_type": "execute_result"
    }
   ],
   "source": [
    "GovernmentBonds.Bonds()"
   ]
  },
  {
   "cell_type": "code",
   "execution_count": 5,
   "metadata": {},
   "outputs": [
    {
     "data": {
      "text/plain": [
       "array([[101.5 ,   0.  ,   0.  ,   0.  ,   0.  ,   0.  ,   0.  ,   0.  ,\n",
       "          0.  ,   0.  ],\n",
       "       [  1.75, 101.75,   0.  ,   0.  ,   0.  ,   0.  ,   0.  ,   0.  ,\n",
       "          0.  ,   0.  ],\n",
       "       [  2.  ,   2.  , 102.  ,   0.  ,   0.  ,   0.  ,   0.  ,   0.  ,\n",
       "          0.  ,   0.  ],\n",
       "       [  2.25,   2.25,   2.25, 102.25,   0.  ,   0.  ,   0.  ,   0.  ,\n",
       "          0.  ,   0.  ],\n",
       "       [  2.5 ,   2.5 ,   2.5 ,   2.5 , 102.5 ,   0.  ,   0.  ,   0.  ,\n",
       "          0.  ,   0.  ],\n",
       "       [  2.75,   2.75,   2.75,   2.75,   2.75, 102.75,   0.  ,   0.  ,\n",
       "          0.  ,   0.  ],\n",
       "       [  3.  ,   3.  ,   3.  ,   3.  ,   3.  ,   3.  , 103.  ,   0.  ,\n",
       "          0.  ,   0.  ],\n",
       "       [  3.25,   3.25,   3.25,   3.25,   3.25,   3.25,   3.25, 103.25,\n",
       "          0.  ,   0.  ],\n",
       "       [  3.5 ,   3.5 ,   3.5 ,   3.5 ,   3.5 ,   3.5 ,   3.5 ,   3.5 ,\n",
       "        103.5 ,   0.  ],\n",
       "       [  3.75,   3.75,   3.75,   3.75,   3.75,   3.75,   3.75,   3.75,\n",
       "          3.75, 103.75]])"
      ]
     },
     "execution_count": 5,
     "metadata": {},
     "output_type": "execute_result"
    }
   ],
   "source": [
    "GovernmentBonds.CashflowMatrix()"
   ]
  },
  {
   "cell_type": "code",
   "execution_count": 6,
   "metadata": {},
   "outputs": [
    {
     "data": {
      "text/plain": [
       "array([0.95172414, 0.90461408, 0.86124827, 0.8227426 , 0.78916271,\n",
       "       0.76042723, 0.73611886, 0.71559687, 0.69849544, 0.68423626])"
      ]
     },
     "execution_count": 6,
     "metadata": {},
     "output_type": "execute_result"
    }
   ],
   "source": [
    "GovernmentBonds.BootstrapMatrixOperations()"
   ]
  },
  {
   "cell_type": "code",
   "execution_count": 7,
   "metadata": {},
   "outputs": [
    {
     "data": {
      "text/plain": [
       "array([0.95172414, 0.90461408, 0.86124827, 0.8227426 , 0.78916271,\n",
       "       0.76042723, 0.73611886, 0.71559687, 0.69849544, 0.68423626])"
      ]
     },
     "execution_count": 7,
     "metadata": {},
     "output_type": "execute_result"
    }
   ],
   "source": [
    "GovernmentBonds.BootstrapMatrixOperations2()"
   ]
  },
  {
   "cell_type": "code",
   "execution_count": 8,
   "metadata": {},
   "outputs": [
    {
     "data": {
      "text/plain": [
       "array([0.95172414, 0.90461408, 0.86124827, 0.82274259, 0.7891627 ,\n",
       "       0.76042722, 0.73611886, 0.71559687, 0.69849544, 0.68423625])"
      ]
     },
     "execution_count": 8,
     "metadata": {},
     "output_type": "execute_result"
    }
   ],
   "source": [
    "GovernmentBonds.BootstrapGlobalSolver()"
   ]
  },
  {
   "cell_type": "code",
   "execution_count": 9,
   "metadata": {},
   "outputs": [
    {
     "data": {
      "text/plain": [
       "array([0.95172414, 0.90461408, 0.86124827, 0.8227426 , 0.78916271,\n",
       "       0.76042723, 0.73611886, 0.71559687, 0.69849544, 0.68423626])"
      ]
     },
     "execution_count": 9,
     "metadata": {},
     "output_type": "execute_result"
    }
   ],
   "source": [
    "GovernmentBonds.BootstrapIterative()"
   ]
  },
  {
   "cell_type": "markdown",
   "metadata": {},
   "source": [
    "##### Bootstrapping the yield curve with the 3 methods created resulted in the same discount factors as expected"
   ]
  },
  {
   "cell_type": "markdown",
   "metadata": {
    "tags": []
   },
   "source": [
    "<a id=\"section5\">\n",
    "<h3 style='color:#5F6A6E' > 2. Determining the spot rate (annual compounding) for each maturity from the calculated discount factors and plotting them</h3>"
   ]
  },
  {
   "cell_type": "markdown",
   "metadata": {},
   "source": [
    "Knowing that:\n",
    "\n",
    "$DiscountFactor = \\frac{1}{(1+SpotRate)^t}$\n",
    " \n",
    "we have that:\n",
    "\n",
    "$SpotRate = \\sqrt[t]{1/DF} - 1$"
   ]
  },
  {
   "cell_type": "code",
   "execution_count": 10,
   "metadata": {},
   "outputs": [
    {
     "data": {
      "text/plain": [
       "array([0.05072464, 0.05140086, 0.05105122, 0.0499872 , 0.04849579,\n",
       "       0.04670361, 0.04473811, 0.04271698, 0.04067509, 0.03867431])"
      ]
     },
     "execution_count": 10,
     "metadata": {},
     "output_type": "execute_result"
    }
   ],
   "source": [
    "TimeFactor=1/GovernmentBonds.maturity\n",
    "InverseDF=1/GovernmentBonds.BootstrapMatrixOperations()\n",
    "SpotRateCurve = np.power(InverseDF, TimeFactor)-1 \n",
    "SpotRateCurve"
   ]
  },
  {
   "cell_type": "code",
   "execution_count": 11,
   "metadata": {},
   "outputs": [
    {
     "data": {
      "image/png": "[encoded data removed]",
      "text/plain": [
       "<Figure size 432x288 with 1 Axes>"
      ]
     },
     "metadata": {
      "needs_background": "light"
     },
     "output_type": "display_data"
    }
   ],
   "source": [
    "fig1, ax1 = plt.subplots()\n",
    "ax1.plot(GovernmentBonds.maturity,SpotRateCurve,marker='o');\n",
    "ax1.set_title(\"Treasury Government Bonds Spot Rates\");\n",
    "ax1.set_xlabel('Maturity (Years)');\n",
    "ax1.set_ylabel('Spot Rate');\n",
    "ax1.set_xticks(GovernmentBonds.maturity);\n",
    "ax1.set_yticks(np.linspace(0,0.06,7));"
   ]
  },
  {
   "cell_type": "markdown",
   "metadata": {
    "tags": []
   },
   "source": [
    "<a id=\"section6\">\n",
    "<h3 style='color:#5F6A6E' > 3. Determining the YTM for each bond and plotting them</h3>"
   ]
  },
  {
   "cell_type": "code",
   "execution_count": 12,
   "metadata": {},
   "outputs": [
    {
     "data": {
      "text/plain": [
       "array([0.05072464, 0.0513948 , 0.05105361, 0.05002602, 0.04860682,\n",
       "       0.04693075, 0.04512745, 0.04331056, 0.04151381, 0.03979082])"
      ]
     },
     "execution_count": 12,
     "metadata": {},
     "output_type": "execute_result"
    }
   ],
   "source": [
    "def YTM(maturity, coupon, price):\n",
    "    ytm_func = lambda y : sum([(coupon if n < maturity else coupon + 1)/(1+y)**n\n",
    "                              for n in range(1, maturity +1)]) * 100 - price\n",
    "    return optimize.newton(ytm_func, 0)\n",
    "\n",
    "YieldsToMaturity=np.empty(0)\n",
    "for bond in GovernmentBonds.Bonds():\n",
    "    a=bond\n",
    "    YieldsToMaturity=np.append(YieldsToMaturity,YTM(int(a[0]),a[1],a[2]))\n",
    "    \n",
    "YieldsToMaturity"
   ]
  },
  {
   "cell_type": "markdown",
   "metadata": {},
   "source": [
    "As all the bonds have the same periods between payments, we could have used the Internal Rate Return function:"
   ]
  },
  {
   "cell_type": "code",
   "execution_count": 13,
   "metadata": {},
   "outputs": [
    {
     "data": {
      "text/plain": [
       "array([0.05072464, 0.0513948 , 0.05105361, 0.05002602, 0.04860682,\n",
       "       0.04693075, 0.04512745, 0.04331056, 0.04151381, 0.03979082])"
      ]
     },
     "execution_count": 13,
     "metadata": {},
     "output_type": "execute_result"
    }
   ],
   "source": [
    "import numpy_financial as npf\n",
    "MatrixPricesCasflows=np.insert(GovernmentBonds.CashflowMatrix(),0,-GovernmentBonds.price,axis=1)   \n",
    "YieldsToMaturity2=np.apply_along_axis(npf.irr,1,MatrixPricesCasflows)\n",
    "YieldsToMaturity2"
   ]
  },
  {
   "cell_type": "code",
   "execution_count": 14,
   "metadata": {},
   "outputs": [
    {
     "data": {
      "image/png": "[encoded data removed]",
      "text/plain": [
       "<Figure size 432x288 with 1 Axes>"
      ]
     },
     "metadata": {
      "needs_background": "light"
     },
     "output_type": "display_data"
    }
   ],
   "source": [
    "fig2, ax2 = plt.subplots()\n",
    "ax2.plot(GovernmentBonds.maturity,YieldsToMaturity,marker='o',color='r');\n",
    "ax2.set_title(\"Treasury Government Bonds YTM\");\n",
    "ax2.set_xlabel('Maturity (Years)');\n",
    "ax2.set_ylabel('YTM');\n",
    "ax2.set_xticks(GovernmentBonds.maturity);\n",
    "ax2.set_yticks(np.linspace(0,0.06,7));"
   ]
  },
  {
   "cell_type": "markdown",
   "metadata": {
    "tags": []
   },
   "source": [
    "<a id=\"section7\">\n",
    "<h3 style='color:#5F6A6E' > 4. Determining the 1y forward rate starting in each of the years from 1 to 9 and plotting them</h3>"
   ]
  },
  {
   "cell_type": "markdown",
   "metadata": {},
   "source": [
    "Knowing that:\n",
    "\n",
    "${(1+SpotRate_{t_2})^{t_2}} = {(1+SpotRate_{t_1})^{t_1}} {(1+ForwardRate)^{t_2-t_1}}$\n",
    "\n",
    "we have that:\n",
    "\n",
    "$ForwardRate = (\\frac{(1+SpotRate_{t_2})^{t_2}}{(1+SpotRate_{t_1})^{t_1}})^{\\frac{1}{t_2-t_1}}$"
   ]
  },
  {
   "cell_type": "code",
   "execution_count": 15,
   "metadata": {},
   "outputs": [
    {
     "data": {
      "image/png": "[encoded data removed]",
      "text/plain": [
       "<Figure size 432x288 with 1 Axes>"
      ]
     },
     "metadata": {
      "needs_background": "light"
     },
     "output_type": "display_data"
    }
   ],
   "source": [
    "def ForwardRate (zero1,zero2,tenor1,tenor2):\n",
    "    return (((1+zero2)**tenor2)/((1+zero1)**tenor1))**(1/(tenor2-tenor1))-1\n",
    "\n",
    "ForwardRatesArray=np.empty(0)\n",
    "for i in range(len(GovernmentBonds.Bonds())-1):\n",
    "    ForwardRatesArray=np.append(ForwardRatesArray,ForwardRate(SpotRateCurve[i],SpotRateCurve[i+1],GovernmentBonds.maturity[i],GovernmentBonds.maturity[i+1]))\n",
    "\n",
    "fig3, ax3 = plt.subplots()\n",
    "ax3.plot(GovernmentBonds.maturity[:len(GovernmentBonds.Bonds())-1],ForwardRatesArray,marker='o',color='g',label=\"Forward 1Y Rates\")\n",
    "ax3.set_title(\"Treasury Government Bonds Forward1Y Rates\");\n",
    "ax3.set_xlabel('Maturity (Years)');\n",
    "ax3.set_ylabel('Forward 1Y rate');\n",
    "ax3.set_xticks(GovernmentBonds.maturity);\n",
    "ax3.set_yticks(np.linspace(0,0.06,7));"
   ]
  },
  {
   "cell_type": "code",
   "execution_count": 16,
   "metadata": {},
   "outputs": [
    {
     "data": {
      "text/plain": [
       "array([0.05207752, 0.05035228, 0.04680161, 0.04255129, 0.0377886 ,\n",
       "       0.03302233, 0.02867815, 0.02448323, 0.02083956])"
      ]
     },
     "execution_count": 16,
     "metadata": {},
     "output_type": "execute_result"
    }
   ],
   "source": [
    "ForwardRatesArray"
   ]
  },
  {
   "cell_type": "markdown",
   "metadata": {
    "tags": []
   },
   "source": [
    "<a id=\"section8\">\n",
    "<h3 style='color:#5F6A6E' > 5. Making a plot of the spot rates, yields and forward rates with a legend identifying the series</h3>"
   ]
  },
  {
   "cell_type": "code",
   "execution_count": 17,
   "metadata": {},
   "outputs": [
    {
     "data": {
      "image/png": "[encoded data removed]",
      "text/plain": [
       "<Figure size 432x288 with 1 Axes>"
      ]
     },
     "metadata": {
      "needs_background": "light"
     },
     "output_type": "display_data"
    }
   ],
   "source": [
    "fig4, ax4 = plt.subplots()\n",
    "ax4.plot(GovernmentBonds.maturity,SpotRateCurve,marker='o',color='b',label=\"Spot Rates\");\n",
    "ax4.plot(GovernmentBonds.maturity,YieldsToMaturity,marker='o',color='r',label=\"YTM\");\n",
    "ax4.plot(GovernmentBonds.maturity[:len(GovernmentBonds.Bonds())-1],ForwardRatesArray,marker='o',color='g',label=\"Forward 1Y Rates\");\n",
    "ax4.set_title(\"Treasury Government Bonds Spot & YTM & Forward1Y Rates\");\n",
    "ax4.set_xlabel('Maturity (Years)');\n",
    "ax4.set_ylabel('Rate');\n",
    "ax4.set_xticks(GovernmentBonds.maturity);\n",
    "ax4.legend();\n",
    "ax4.set_yticks(np.linspace(0,0.06,7));"
   ]
  }
 ],
 "metadata": {
  "kernelspec": {
   "display_name": "Python 3 (ipykernel)",
   "language": "python",
   "name": "python3"
  },
  "language_info": {
   "codemirror_mode": {
    "name": "ipython",
    "version": 3
   },
   "file_extension": ".py",
   "mimetype": "text/x-python",
   "name": "python",
   "nbconvert_exporter": "python",
   "pygments_lexer": "ipython3",
   "version": "3.8.13"
  }
 },
 "nbformat": 4,
 "nbformat_minor": 4
}
