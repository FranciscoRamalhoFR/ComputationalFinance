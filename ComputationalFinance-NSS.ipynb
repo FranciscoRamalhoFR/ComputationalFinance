{
 "cells": [
  {
   "cell_type": "markdown",
   "metadata": {},
   "source": [
    "<h1><center> COMPUTATIONAL FINANCE </center></h1> \n",
    "<h5><center> Francisco Ramalho </center></h5> \n",
    "<h5><center> Nov 2020 </center></h5> \n",
    "<h1><center> This notebook presents a simple exercise of Computanional Finance </center></h1>\n",
    "<h3> Considering the following market data for bond yields </h3>\n"
   ]
  },
  {
   "cell_type": "code",
   "execution_count": 1,
   "metadata": {},
   "outputs": [],
   "source": [
    "dates = ['09-10-2020', '09-09-2020', '07-08-2020', '09-07-2020', '09-06-2020']\n",
    "tenors = ['3M', '6M', '1Y', '2Y', '3Y', '4Y', '5Y', '6Y', '7Y', '8Y', '9Y', '10Y', '15Y', '20Y', '30Y']\n",
    "data = [\n",
    "    [-0.545, -0.529, -0.523, -0.604, -0.471, -0.436, -0.329, -0.237, -0.118, -0.05 ,  0.013,  0.155,  0.505,  0.525,  0.854],\n",
    "    [-0.504, -0.499, -0.499, -0.561, -0.386, -0.327, -0.179, -0.097, 0.076,  0.161,  0.222,  0.359,  0.718,  0.748,  1.069],\n",
    "    [-0.502, -0.491, -0.476, -0.462, -0.328, -0.319, -0.209, -0.142, 0.02 ,  0.108,  0.167,  0.293,  0.639,  0.682,  1.011],\n",
    "    [-0.462, -0.459, -0.447, -0.485, -0.35 , -0.31 , -0.114, -0.053, 0.139,  0.241,  0.307,  0.412,  0.777,  0.828,  1.161],\n",
    "    [-0.455, -0.446, -0.421, -0.352, -0.235, -0.196,  0.058,  0.138, 0.23 ,  0.418,  0.485,  0.59 ,  0.851,  1.049,  1.427]\n",
    "]"
   ]
  },
  {
   "cell_type": "markdown",
   "metadata": {},
   "source": [
    "<h3> The exercise consists of: </h3>\n",
    "<h5> a) Building a pandas DataFrame with the data using the dates as columns and year fractions of the tenors as index </h5>\n",
    "<h5> b) Plotting the yield curve for each date </h5>\n",
    "<h5> c) Estimating the NSS parameters for each date</h5>\n",
    "<h5> d) Plotting the NSS Yield Curve for each date </h5>\n",
    "<h5> e) Plotting the evolution of the 9M, 3.5Y, 12.5Y and the 25Y rate over the curve dates (a line for each tenor) </h5>\n",
    "<h5> f) Plotting the market data points vs the NSS fit for each date using 5 subplots sharing the y axis (One market date in each subplot) </h5>\n",
    "<h5> g) Making a function that gives the daycount fraction between two dates for either convention Act/360 or Act/365 using date strings as inputs </h5>\n",
    "<h5> h) Making a function that returns the present value of a future investment for a given rate and using it to determine the present value of a payment of EUR 2,430.04 in 5 years at the rate of 5% (Annual compounded rate) </h5>\n"
   ]
  },
  {
   "cell_type": "markdown",
   "metadata": {},
   "source": [
    "-------------------------------------------------------------"
   ]
  },
  {
   "cell_type": "markdown",
   "metadata": {
    "tags": []
   },
   "source": [
    "# a) Building a pandas DataFrame with the data using the dates as columns and year fractions of the tenors as index"
   ]
  },
  {
   "cell_type": "code",
   "execution_count": 2,
   "metadata": {},
   "outputs": [],
   "source": [
    "import pandas as pd\n",
    "import numpy as np\n",
    "import matplotlib.pyplot as plt\n",
    "from scipy.optimize import minimize\n",
    "import datetime"
   ]
  },
  {
   "cell_type": "code",
   "execution_count": 3,
   "metadata": {},
   "outputs": [],
   "source": [
    "def Convert_to_yearfrac(tenors):\n",
    "    tenor_yearfrac=np.empty(0)\n",
    "    for tenor in tenors:\n",
    "        if 'M' in tenor:\n",
    "            tenor=tenor[:-1]\n",
    "            tenor_yearfrac=np.append(tenor_yearfrac,float(tenor)/12)\n",
    "        if 'Y' in tenor:\n",
    "            tenor=tenor[:-1]\n",
    "            tenor_yearfrac=np.append(tenor_yearfrac,float(tenor))\n",
    "    return tenor_yearfrac"
   ]
  },
  {
   "cell_type": "code",
   "execution_count": 4,
   "metadata": {},
   "outputs": [
    {
     "data": {
      "text/plain": [
       "array([ 0.25,  0.5 ,  1.  ,  2.  ,  3.  ,  4.  ,  5.  ,  6.  ,  7.  ,\n",
       "        8.  ,  9.  , 10.  , 15.  , 20.  , 30.  ])"
      ]
     },
     "execution_count": 4,
     "metadata": {},
     "output_type": "execute_result"
    }
   ],
   "source": [
    "tenors_yearfrac=Convert_to_yearfrac(tenors)\n",
    "tenors_yearfrac"
   ]
  },
  {
   "cell_type": "code",
   "execution_count": 5,
   "metadata": {},
   "outputs": [
    {
     "data": {
      "text/html": [
       "<div>\n",
       "<style scoped>\n",
       "    .dataframe tbody tr th:only-of-type {\n",
       "        vertical-align: middle;\n",
       "    }\n",
       "\n",
       "    .dataframe tbody tr th {\n",
       "        vertical-align: top;\n",
       "    }\n",
       "\n",
       "    .dataframe thead th {\n",
       "        text-align: right;\n",
       "    }\n",
       "</style>\n",
       "<table border=\"1\" class=\"dataframe\">\n",
       "  <thead>\n",
       "    <tr style=\"text-align: right;\">\n",
       "      <th></th>\n",
       "      <th>09-10-2020</th>\n",
       "      <th>09-09-2020</th>\n",
       "      <th>07-08-2020</th>\n",
       "      <th>09-07-2020</th>\n",
       "      <th>09-06-2020</th>\n",
       "    </tr>\n",
       "  </thead>\n",
       "  <tbody>\n",
       "    <tr>\n",
       "      <th>0.25</th>\n",
       "      <td>-0.545</td>\n",
       "      <td>-0.504</td>\n",
       "      <td>-0.502</td>\n",
       "      <td>-0.462</td>\n",
       "      <td>-0.455</td>\n",
       "    </tr>\n",
       "    <tr>\n",
       "      <th>0.50</th>\n",
       "      <td>-0.529</td>\n",
       "      <td>-0.499</td>\n",
       "      <td>-0.491</td>\n",
       "      <td>-0.459</td>\n",
       "      <td>-0.446</td>\n",
       "    </tr>\n",
       "    <tr>\n",
       "      <th>1.00</th>\n",
       "      <td>-0.523</td>\n",
       "      <td>-0.499</td>\n",
       "      <td>-0.476</td>\n",
       "      <td>-0.447</td>\n",
       "      <td>-0.421</td>\n",
       "    </tr>\n",
       "    <tr>\n",
       "      <th>2.00</th>\n",
       "      <td>-0.604</td>\n",
       "      <td>-0.561</td>\n",
       "      <td>-0.462</td>\n",
       "      <td>-0.485</td>\n",
       "      <td>-0.352</td>\n",
       "    </tr>\n",
       "    <tr>\n",
       "      <th>3.00</th>\n",
       "      <td>-0.471</td>\n",
       "      <td>-0.386</td>\n",
       "      <td>-0.328</td>\n",
       "      <td>-0.350</td>\n",
       "      <td>-0.235</td>\n",
       "    </tr>\n",
       "    <tr>\n",
       "      <th>4.00</th>\n",
       "      <td>-0.436</td>\n",
       "      <td>-0.327</td>\n",
       "      <td>-0.319</td>\n",
       "      <td>-0.310</td>\n",
       "      <td>-0.196</td>\n",
       "    </tr>\n",
       "    <tr>\n",
       "      <th>5.00</th>\n",
       "      <td>-0.329</td>\n",
       "      <td>-0.179</td>\n",
       "      <td>-0.209</td>\n",
       "      <td>-0.114</td>\n",
       "      <td>0.058</td>\n",
       "    </tr>\n",
       "    <tr>\n",
       "      <th>6.00</th>\n",
       "      <td>-0.237</td>\n",
       "      <td>-0.097</td>\n",
       "      <td>-0.142</td>\n",
       "      <td>-0.053</td>\n",
       "      <td>0.138</td>\n",
       "    </tr>\n",
       "    <tr>\n",
       "      <th>7.00</th>\n",
       "      <td>-0.118</td>\n",
       "      <td>0.076</td>\n",
       "      <td>0.020</td>\n",
       "      <td>0.139</td>\n",
       "      <td>0.230</td>\n",
       "    </tr>\n",
       "    <tr>\n",
       "      <th>8.00</th>\n",
       "      <td>-0.050</td>\n",
       "      <td>0.161</td>\n",
       "      <td>0.108</td>\n",
       "      <td>0.241</td>\n",
       "      <td>0.418</td>\n",
       "    </tr>\n",
       "    <tr>\n",
       "      <th>9.00</th>\n",
       "      <td>0.013</td>\n",
       "      <td>0.222</td>\n",
       "      <td>0.167</td>\n",
       "      <td>0.307</td>\n",
       "      <td>0.485</td>\n",
       "    </tr>\n",
       "    <tr>\n",
       "      <th>10.00</th>\n",
       "      <td>0.155</td>\n",
       "      <td>0.359</td>\n",
       "      <td>0.293</td>\n",
       "      <td>0.412</td>\n",
       "      <td>0.590</td>\n",
       "    </tr>\n",
       "    <tr>\n",
       "      <th>15.00</th>\n",
       "      <td>0.505</td>\n",
       "      <td>0.718</td>\n",
       "      <td>0.639</td>\n",
       "      <td>0.777</td>\n",
       "      <td>0.851</td>\n",
       "    </tr>\n",
       "    <tr>\n",
       "      <th>20.00</th>\n",
       "      <td>0.525</td>\n",
       "      <td>0.748</td>\n",
       "      <td>0.682</td>\n",
       "      <td>0.828</td>\n",
       "      <td>1.049</td>\n",
       "    </tr>\n",
       "    <tr>\n",
       "      <th>30.00</th>\n",
       "      <td>0.854</td>\n",
       "      <td>1.069</td>\n",
       "      <td>1.011</td>\n",
       "      <td>1.161</td>\n",
       "      <td>1.427</td>\n",
       "    </tr>\n",
       "  </tbody>\n",
       "</table>\n",
       "</div>"
      ],
      "text/plain": [
       "       09-10-2020  09-09-2020  07-08-2020  09-07-2020  09-06-2020\n",
       "0.25       -0.545      -0.504      -0.502      -0.462      -0.455\n",
       "0.50       -0.529      -0.499      -0.491      -0.459      -0.446\n",
       "1.00       -0.523      -0.499      -0.476      -0.447      -0.421\n",
       "2.00       -0.604      -0.561      -0.462      -0.485      -0.352\n",
       "3.00       -0.471      -0.386      -0.328      -0.350      -0.235\n",
       "4.00       -0.436      -0.327      -0.319      -0.310      -0.196\n",
       "5.00       -0.329      -0.179      -0.209      -0.114       0.058\n",
       "6.00       -0.237      -0.097      -0.142      -0.053       0.138\n",
       "7.00       -0.118       0.076       0.020       0.139       0.230\n",
       "8.00       -0.050       0.161       0.108       0.241       0.418\n",
       "9.00        0.013       0.222       0.167       0.307       0.485\n",
       "10.00       0.155       0.359       0.293       0.412       0.590\n",
       "15.00       0.505       0.718       0.639       0.777       0.851\n",
       "20.00       0.525       0.748       0.682       0.828       1.049\n",
       "30.00       0.854       1.069       1.011       1.161       1.427"
      ]
     },
     "execution_count": 5,
     "metadata": {},
     "output_type": "execute_result"
    }
   ],
   "source": [
    "YieldCurveData=pd.DataFrame(np.array(data).T,index=tenors_yearfrac,columns=dates)\n",
    "YieldCurveData"
   ]
  },
  {
   "cell_type": "markdown",
   "metadata": {},
   "source": [
    "### b) Ploting the yield curve for each date"
   ]
  },
  {
   "cell_type": "code",
   "execution_count": 6,
   "metadata": {},
   "outputs": [
    {
     "data": {
      "image/png": "[encoded data removed]",
      "text/plain": [
       "<Figure size 432x288 with 1 Axes>"
      ]
     },
     "metadata": {
      "needs_background": "light"
     },
     "output_type": "display_data"
    }
   ],
   "source": [
    "fig1, ax1 = plt.subplots()\n",
    "for date in dates:\n",
    "    ax1=YieldCurveData[date].plot()\n",
    "ax1.legend();\n",
    "ax1.set(title='Yield curve each day');\n",
    "ax1.grid(alpha=0.3, axis='y');"
   ]
  },
  {
   "cell_type": "markdown",
   "metadata": {},
   "source": [
    "### c) Estimating the NSS parameters for each date"
   ]
  },
  {
   "cell_type": "markdown",
   "metadata": {},
   "source": [
    "##### NSS function calculate the spot rate for a given set of parameters (p) and the desired maturity (term)"
   ]
  },
  {
   "cell_type": "code",
   "execution_count": 7,
   "metadata": {},
   "outputs": [],
   "source": [
    "def NSS(p, term):\n",
    "    beta0, beta1, beta2, beta3, tau1, tau2 = p\n",
    "    return ( beta0\n",
    "            +beta1*(1-np.exp(-term/tau1))/(term/tau1)\n",
    "            +beta2*((1-np.exp(-term/tau1))/(term/tau1)-np.exp(-term/tau1))\n",
    "            +beta3*((1-np.exp(-term/tau2))/(term/tau2)-np.exp(-term/tau2)))\n",
    "\n",
    "def error(guess, x, y): return ((NSS(guess, x) - y)**2).sum()\n",
    "\n",
    "NSS_Parameters=pd.DataFrame(index=[\"beta0\", \"beta1\", \"beta2\", \"beta3\", \"tau1\", \"tau2\"], columns=dates)"
   ]
  },
  {
   "cell_type": "markdown",
   "metadata": {},
   "source": [
    "##### Random initial guess for the NSS parameters"
   ]
  },
  {
   "cell_type": "code",
   "execution_count": 8,
   "metadata": {},
   "outputs": [
    {
     "data": {
      "text/html": [
       "<div>\n",
       "<style scoped>\n",
       "    .dataframe tbody tr th:only-of-type {\n",
       "        vertical-align: middle;\n",
       "    }\n",
       "\n",
       "    .dataframe tbody tr th {\n",
       "        vertical-align: top;\n",
       "    }\n",
       "\n",
       "    .dataframe thead th {\n",
       "        text-align: right;\n",
       "    }\n",
       "</style>\n",
       "<table border=\"1\" class=\"dataframe\">\n",
       "  <thead>\n",
       "    <tr style=\"text-align: right;\">\n",
       "      <th></th>\n",
       "      <th>09-10-2020</th>\n",
       "      <th>09-09-2020</th>\n",
       "      <th>07-08-2020</th>\n",
       "      <th>09-07-2020</th>\n",
       "      <th>09-06-2020</th>\n",
       "    </tr>\n",
       "  </thead>\n",
       "  <tbody>\n",
       "    <tr>\n",
       "      <th>beta0</th>\n",
       "      <td>1.225925</td>\n",
       "      <td>1.410435</td>\n",
       "      <td>1.404120</td>\n",
       "      <td>1.510002</td>\n",
       "      <td>1.826035</td>\n",
       "    </tr>\n",
       "    <tr>\n",
       "      <th>beta1</th>\n",
       "      <td>-1.718157</td>\n",
       "      <td>-1.861669</td>\n",
       "      <td>-1.881936</td>\n",
       "      <td>-1.915742</td>\n",
       "      <td>-2.281718</td>\n",
       "    </tr>\n",
       "    <tr>\n",
       "      <th>beta2</th>\n",
       "      <td>8.160337</td>\n",
       "      <td>7.997013</td>\n",
       "      <td>8.391830</td>\n",
       "      <td>8.002822</td>\n",
       "      <td>8.168175</td>\n",
       "    </tr>\n",
       "    <tr>\n",
       "      <th>beta3</th>\n",
       "      <td>-10.513431</td>\n",
       "      <td>-10.658075</td>\n",
       "      <td>-10.285499</td>\n",
       "      <td>-10.654758</td>\n",
       "      <td>-10.502438</td>\n",
       "    </tr>\n",
       "    <tr>\n",
       "      <th>tau1</th>\n",
       "      <td>3.093738</td>\n",
       "      <td>2.521171</td>\n",
       "      <td>3.689039</td>\n",
       "      <td>2.633432</td>\n",
       "      <td>3.050768</td>\n",
       "    </tr>\n",
       "    <tr>\n",
       "      <th>tau2</th>\n",
       "      <td>3.052569</td>\n",
       "      <td>2.521200</td>\n",
       "      <td>3.568528</td>\n",
       "      <td>2.610151</td>\n",
       "      <td>3.050767</td>\n",
       "    </tr>\n",
       "  </tbody>\n",
       "</table>\n",
       "</div>"
      ],
      "text/plain": [
       "       09-10-2020  09-09-2020  07-08-2020  09-07-2020  09-06-2020\n",
       "beta0    1.225925    1.410435    1.404120    1.510002    1.826035\n",
       "beta1   -1.718157   -1.861669   -1.881936   -1.915742   -2.281718\n",
       "beta2    8.160337    7.997013    8.391830    8.002822    8.168175\n",
       "beta3  -10.513431  -10.658075  -10.285499  -10.654758  -10.502438\n",
       "tau1     3.093738    2.521171    3.689039    2.633432    3.050768\n",
       "tau2     3.052569    2.521200    3.568528    2.610151    3.050767"
      ]
     },
     "execution_count": 8,
     "metadata": {},
     "output_type": "execute_result"
    }
   ],
   "source": [
    "guess = np.array([1.5,  -2.00,  7.7, -10.99,  3.50, 3.80])\n",
    "for date in dates:\n",
    "    x=tenors_yearfrac\n",
    "    y=YieldCurveData[date]  \n",
    "    NSS_Parameters[date]=minimize(error, guess, args=(x, y))['x']\n",
    "NSS_Parameters"
   ]
  },
  {
   "cell_type": "markdown",
   "metadata": {},
   "source": [
    "### d) Plotting the NSS Yield Curve for each date"
   ]
  },
  {
   "cell_type": "code",
   "execution_count": 9,
   "metadata": {},
   "outputs": [
    {
     "data": {
      "text/html": [
       "<div>\n",
       "<style scoped>\n",
       "    .dataframe tbody tr th:only-of-type {\n",
       "        vertical-align: middle;\n",
       "    }\n",
       "\n",
       "    .dataframe tbody tr th {\n",
       "        vertical-align: top;\n",
       "    }\n",
       "\n",
       "    .dataframe thead th {\n",
       "        text-align: right;\n",
       "    }\n",
       "</style>\n",
       "<table border=\"1\" class=\"dataframe\">\n",
       "  <thead>\n",
       "    <tr style=\"text-align: right;\">\n",
       "      <th></th>\n",
       "      <th>09-10-2020</th>\n",
       "      <th>09-09-2020</th>\n",
       "      <th>07-08-2020</th>\n",
       "      <th>09-07-2020</th>\n",
       "      <th>09-06-2020</th>\n",
       "    </tr>\n",
       "  </thead>\n",
       "  <tbody>\n",
       "    <tr>\n",
       "      <th>0.25</th>\n",
       "      <td>-0.519884</td>\n",
       "      <td>-0.485434</td>\n",
       "      <td>-0.487532</td>\n",
       "      <td>-0.439772</td>\n",
       "      <td>-0.455271</td>\n",
       "    </tr>\n",
       "    <tr>\n",
       "      <th>0.50</th>\n",
       "      <td>-0.540617</td>\n",
       "      <td>-0.50969</td>\n",
       "      <td>-0.492689</td>\n",
       "      <td>-0.463863</td>\n",
       "      <td>-0.450129</td>\n",
       "    </tr>\n",
       "    <tr>\n",
       "      <th>1.00</th>\n",
       "      <td>-0.564279</td>\n",
       "      <td>-0.533271</td>\n",
       "      <td>-0.491196</td>\n",
       "      <td>-0.487077</td>\n",
       "      <td>-0.42785</td>\n",
       "    </tr>\n",
       "    <tr>\n",
       "      <th>2.00</th>\n",
       "      <td>-0.557431</td>\n",
       "      <td>-0.508066</td>\n",
       "      <td>-0.451975</td>\n",
       "      <td>-0.460832</td>\n",
       "      <td>-0.347917</td>\n",
       "    </tr>\n",
       "    <tr>\n",
       "      <th>3.00</th>\n",
       "      <td>-0.503147</td>\n",
       "      <td>-0.42441</td>\n",
       "      <td>-0.380773</td>\n",
       "      <td>-0.375627</td>\n",
       "      <td>-0.239086</td>\n",
       "    </tr>\n",
       "    <tr>\n",
       "      <th>4.00</th>\n",
       "      <td>-0.422274</td>\n",
       "      <td>-0.31236</td>\n",
       "      <td>-0.291719</td>\n",
       "      <td>-0.261568</td>\n",
       "      <td>-0.116594</td>\n",
       "    </tr>\n",
       "    <tr>\n",
       "      <th>5.00</th>\n",
       "      <td>-0.328409</td>\n",
       "      <td>-0.189987</td>\n",
       "      <td>-0.194331</td>\n",
       "      <td>-0.136855</td>\n",
       "      <td>0.009782</td>\n",
       "    </tr>\n",
       "    <tr>\n",
       "      <th>6.00</th>\n",
       "      <td>-0.230225</td>\n",
       "      <td>-0.06777</td>\n",
       "      <td>-0.094879</td>\n",
       "      <td>-0.012108</td>\n",
       "      <td>0.133974</td>\n",
       "    </tr>\n",
       "    <tr>\n",
       "      <th>7.00</th>\n",
       "      <td>-0.133076</td>\n",
       "      <td>0.048565</td>\n",
       "      <td>0.002639</td>\n",
       "      <td>0.106824</td>\n",
       "      <td>0.252407</td>\n",
       "    </tr>\n",
       "    <tr>\n",
       "      <th>8.00</th>\n",
       "      <td>-0.04011</td>\n",
       "      <td>0.156204</td>\n",
       "      <td>0.095797</td>\n",
       "      <td>0.217035</td>\n",
       "      <td>0.363162</td>\n",
       "    </tr>\n",
       "    <tr>\n",
       "      <th>9.00</th>\n",
       "      <td>0.04698</td>\n",
       "      <td>0.254086</td>\n",
       "      <td>0.183241</td>\n",
       "      <td>0.317396</td>\n",
       "      <td>0.465391</td>\n",
       "    </tr>\n",
       "    <tr>\n",
       "      <th>10.00</th>\n",
       "      <td>0.127433</td>\n",
       "      <td>0.34216</td>\n",
       "      <td>0.264338</td>\n",
       "      <td>0.407813</td>\n",
       "      <td>0.558931</td>\n",
       "    </tr>\n",
       "    <tr>\n",
       "      <th>15.00</th>\n",
       "      <td>0.433614</td>\n",
       "      <td>0.659163</td>\n",
       "      <td>0.577159</td>\n",
       "      <td>0.734093</td>\n",
       "      <td>0.911183</td>\n",
       "    </tr>\n",
       "    <tr>\n",
       "      <th>20.00</th>\n",
       "      <td>0.620833</td>\n",
       "      <td>0.84145</td>\n",
       "      <td>0.77189</td>\n",
       "      <td>0.922205</td>\n",
       "      <td>1.126241</td>\n",
       "    </tr>\n",
       "    <tr>\n",
       "      <th>30.00</th>\n",
       "      <td>0.820589</td>\n",
       "      <td>1.030359</td>\n",
       "      <td>0.981028</td>\n",
       "      <td>1.117337</td>\n",
       "      <td>1.356776</td>\n",
       "    </tr>\n",
       "  </tbody>\n",
       "</table>\n",
       "</div>"
      ],
      "text/plain": [
       "      09-10-2020 09-09-2020 07-08-2020 09-07-2020 09-06-2020\n",
       "0.25   -0.519884  -0.485434  -0.487532  -0.439772  -0.455271\n",
       "0.50   -0.540617   -0.50969  -0.492689  -0.463863  -0.450129\n",
       "1.00   -0.564279  -0.533271  -0.491196  -0.487077   -0.42785\n",
       "2.00   -0.557431  -0.508066  -0.451975  -0.460832  -0.347917\n",
       "3.00   -0.503147   -0.42441  -0.380773  -0.375627  -0.239086\n",
       "4.00   -0.422274   -0.31236  -0.291719  -0.261568  -0.116594\n",
       "5.00   -0.328409  -0.189987  -0.194331  -0.136855   0.009782\n",
       "6.00   -0.230225   -0.06777  -0.094879  -0.012108   0.133974\n",
       "7.00   -0.133076   0.048565   0.002639   0.106824   0.252407\n",
       "8.00    -0.04011   0.156204   0.095797   0.217035   0.363162\n",
       "9.00     0.04698   0.254086   0.183241   0.317396   0.465391\n",
       "10.00   0.127433    0.34216   0.264338   0.407813   0.558931\n",
       "15.00   0.433614   0.659163   0.577159   0.734093   0.911183\n",
       "20.00   0.620833    0.84145    0.77189   0.922205   1.126241\n",
       "30.00   0.820589   1.030359   0.981028   1.117337   1.356776"
      ]
     },
     "execution_count": 9,
     "metadata": {},
     "output_type": "execute_result"
    }
   ],
   "source": [
    "NSS_curve=pd.DataFrame(index=tenors_yearfrac,columns=dates)\n",
    "for date in dates:\n",
    "    for tenor in tenors_yearfrac:\n",
    "        NSS_curve.loc[[tenor],[date]]=NSS(NSS_Parameters[date],tenor)\n",
    "NSS_curve"
   ]
  },
  {
   "cell_type": "code",
   "execution_count": 10,
   "metadata": {},
   "outputs": [
    {
     "data": {
      "image/png": "[encoded data removed]",
      "text/plain": [
       "<Figure size 432x288 with 1 Axes>"
      ]
     },
     "metadata": {
      "needs_background": "light"
     },
     "output_type": "display_data"
    }
   ],
   "source": [
    "fig2, ax2 = plt.subplots() \n",
    "for date in dates:          \n",
    "    ax2=NSS_curve[date].plot()\n",
    "ax2.legend();\n",
    "ax2.set(title='NSS curve for each day');\n",
    "ax2.grid(alpha=0.3, axis='y');"
   ]
  },
  {
   "cell_type": "markdown",
   "metadata": {},
   "source": [
    "### e) Plotting the evolution of the 9M, 3.5Y, 12.5Y and the 25Y rate over the curve dates (a line for each tenor)"
   ]
  },
  {
   "cell_type": "code",
   "execution_count": 11,
   "metadata": {},
   "outputs": [
    {
     "data": {
      "text/plain": [
       "array([ 0.75,  3.5 , 12.5 , 25.  ])"
      ]
     },
     "execution_count": 11,
     "metadata": {},
     "output_type": "execute_result"
    }
   ],
   "source": [
    "tenors_to_plot=['9M','3.5Y','12.5Y','25Y']\n",
    "tenors_to_plot_yearfrac=Convert_to_yearfrac(tenors_to_plot)\n",
    "tenors_to_plot_yearfrac"
   ]
  },
  {
   "cell_type": "code",
   "execution_count": 12,
   "metadata": {},
   "outputs": [
    {
     "data": {
      "text/html": [
       "<div>\n",
       "<style scoped>\n",
       "    .dataframe tbody tr th:only-of-type {\n",
       "        vertical-align: middle;\n",
       "    }\n",
       "\n",
       "    .dataframe tbody tr th {\n",
       "        vertical-align: top;\n",
       "    }\n",
       "\n",
       "    .dataframe thead th {\n",
       "        text-align: right;\n",
       "    }\n",
       "</style>\n",
       "<table border=\"1\" class=\"dataframe\">\n",
       "  <thead>\n",
       "    <tr style=\"text-align: right;\">\n",
       "      <th></th>\n",
       "      <th>09-10-2020</th>\n",
       "      <th>09-09-2020</th>\n",
       "      <th>07-08-2020</th>\n",
       "      <th>09-07-2020</th>\n",
       "      <th>09-06-2020</th>\n",
       "    </tr>\n",
       "  </thead>\n",
       "  <tbody>\n",
       "    <tr>\n",
       "      <th>0.75</th>\n",
       "      <td>-0.555186</td>\n",
       "      <td>-0.525262</td>\n",
       "      <td>-0.493764</td>\n",
       "      <td>-0.47926</td>\n",
       "      <td>-0.44082</td>\n",
       "    </tr>\n",
       "    <tr>\n",
       "      <th>3.50</th>\n",
       "      <td>-0.465045</td>\n",
       "      <td>-0.370584</td>\n",
       "      <td>-0.337793</td>\n",
       "      <td>-0.320847</td>\n",
       "      <td>-0.178832</td>\n",
       "    </tr>\n",
       "    <tr>\n",
       "      <th>12.50</th>\n",
       "      <td>0.299224</td>\n",
       "      <td>0.523318</td>\n",
       "      <td>0.438953</td>\n",
       "      <td>0.59412</td>\n",
       "      <td>0.756961</td>\n",
       "    </tr>\n",
       "    <tr>\n",
       "      <th>25.00</th>\n",
       "      <td>0.739924</td>\n",
       "      <td>0.954473</td>\n",
       "      <td>0.896563</td>\n",
       "      <td>1.038941</td>\n",
       "      <td>1.263543</td>\n",
       "    </tr>\n",
       "  </tbody>\n",
       "</table>\n",
       "</div>"
      ],
      "text/plain": [
       "      09-10-2020 09-09-2020 07-08-2020 09-07-2020 09-06-2020\n",
       "0.75   -0.555186  -0.525262  -0.493764   -0.47926   -0.44082\n",
       "3.50   -0.465045  -0.370584  -0.337793  -0.320847  -0.178832\n",
       "12.50   0.299224   0.523318   0.438953    0.59412   0.756961\n",
       "25.00   0.739924   0.954473   0.896563   1.038941   1.263543"
      ]
     },
     "execution_count": 12,
     "metadata": {},
     "output_type": "execute_result"
    }
   ],
   "source": [
    "NSS_4tenors=pd.DataFrame(index=tenors_to_plot_yearfrac,columns=dates)\n",
    "for date in dates:\n",
    "    for tenor in tenors_to_plot_yearfrac:\n",
    "        NSS_4tenors.loc[[tenor],[date]]=NSS(NSS_Parameters[date],tenor)\n",
    "NSS_4tenors     "
   ]
  },
  {
   "cell_type": "code",
   "execution_count": 13,
   "metadata": {},
   "outputs": [
    {
     "data": {
      "image/png": "[encoded data removed]",
      "text/plain": [
       "<Figure size 432x288 with 1 Axes>"
      ]
     },
     "metadata": {
      "needs_background": "light"
     },
     "output_type": "display_data"
    }
   ],
   "source": [
    "fig3, ax3 = plt.subplots()  #esta a imprimir 2 plots. Porque??????\n",
    "NSS_4tenors.T.plot(ax=ax3);\n",
    "ax3.legend();\n",
    "ax3.set(title='NSS evolution of the 9M, 3.5Y, 12.5Y and the 25Y tenors rate');\n",
    "ax3.grid(alpha=0.3, axis='y');"
   ]
  },
  {
   "cell_type": "markdown",
   "metadata": {},
   "source": [
    "### f) Plotting the market data points vs the NSS fit for each date using 5 subplots sharing the y axis (One market date in each subplot)"
   ]
  },
  {
   "cell_type": "code",
   "execution_count": 14,
   "metadata": {},
   "outputs": [
    {
     "data": {
      "image/png": "[encoded data removed]",
      "text/plain": [
       "<Figure size 1440x360 with 5 Axes>"
      ]
     },
     "metadata": {
      "needs_background": "light"
     },
     "output_type": "display_data"
    }
   ],
   "source": [
    "fig4, ax4 = plt.subplots(1,len(dates), figsize=(20,5), sharey=True)\n",
    "for idx, date in enumerate(dates):\n",
    "    YieldCurveData[date].plot(ax=ax4[idx],label='Mrket Yield curve');\n",
    "    NSS_curve[date].plot(ax=ax4[idx],label='NSS curve');\n",
    "    ax4[idx].set(title=date);\n",
    "    ax4[idx].legend();\n",
    "    ax4[idx].grid(alpha=0.3, axis='y');"
   ]
  },
  {
   "cell_type": "markdown",
   "metadata": {},
   "source": [
    "### g) Making a function that will give the daycount fraction between two dates for either convention Act/360 or Act/365 using date strings as inputs.\n",
    "### Example: dayCount('15-06-2020', '15-12-2021', 'Act/360')\n"
   ]
  },
  {
   "cell_type": "code",
   "execution_count": 15,
   "metadata": {},
   "outputs": [],
   "source": [
    "def dayCount (date1,date2,convention):\n",
    "    VecDate1=[x.strip() for x in date1.split('-')]\n",
    "    VecDate2=[x.strip() for x in date2.split('-')]\n",
    "    datefraction1=datetime.date(int(VecDate1[2]),int(VecDate1[1]),int(VecDate1[0]))\n",
    "    datefraction2=datetime.date(int(VecDate2[2]),int(VecDate2[1]),int(VecDate2[0]))\n",
    "    datefraction=(datefraction2-datefraction1).days\n",
    "    \n",
    "    if convention == 'Act/360':\n",
    "        return datefraction/360\n",
    "    if convention == 'Act/365':\n",
    "        return datefraction/365\n",
    "    else:\n",
    "        return print(\"ERROR! Function only accepts Act/360 or Act/365\")"
   ]
  },
  {
   "cell_type": "code",
   "execution_count": 16,
   "metadata": {},
   "outputs": [
    {
     "data": {
      "text/plain": [
       "1.5222222222222221"
      ]
     },
     "execution_count": 16,
     "metadata": {},
     "output_type": "execute_result"
    }
   ],
   "source": [
    "dayCount('15-06-2020', '15-12-2021', 'Act/360')"
   ]
  },
  {
   "cell_type": "code",
   "execution_count": 17,
   "metadata": {},
   "outputs": [
    {
     "data": {
      "text/plain": [
       "1.5013698630136987"
      ]
     },
     "execution_count": 17,
     "metadata": {},
     "output_type": "execute_result"
    }
   ],
   "source": [
    "dayCount('15-06-2020', '15-12-2021', 'Act/365')"
   ]
  },
  {
   "cell_type": "code",
   "execution_count": 18,
   "metadata": {},
   "outputs": [
    {
     "name": "stdout",
     "output_type": "stream",
     "text": [
      "ERROR! Function only accepts Act/360 or Act/365\n"
     ]
    }
   ],
   "source": [
    "dayCount('15-06-2020', '15-12-2021', '30/360')"
   ]
  },
  {
   "cell_type": "markdown",
   "metadata": {},
   "source": [
    "### h) Making a function that returns the present value of a future investment for a given rate and using it to determine the present value of a payment of EUR 2,430.04 in 5 years at the rate of 5% (Annual compounded rate)\n"
   ]
  },
  {
   "cell_type": "code",
   "execution_count": 19,
   "metadata": {},
   "outputs": [],
   "source": [
    "def pv(amount, rate, maturity):\n",
    "    pv=amount/(1+rate)**(maturity)\n",
    "    print(f\"The present value of {amount} in {maturity} years assuming a {rate} annualy compounded rate is: {pv}\")"
   ]
  },
  {
   "cell_type": "code",
   "execution_count": 20,
   "metadata": {},
   "outputs": [
    {
     "name": "stdout",
     "output_type": "stream",
     "text": [
      "The present value of 2430.04 in 5 years assuming a 0.05 annualy compounded rate is: 1903.9999255650137\n"
     ]
    }
   ],
   "source": [
    "pv (2430.04, 0.05, 5)"
   ]
  },
  {
   "cell_type": "code",
   "execution_count": null,
   "metadata": {},
   "outputs": [],
   "source": []
  }
 ],
 "metadata": {
  "kernelspec": {
   "display_name": "Python 3 (ipykernel)",
   "language": "python",
   "name": "python3"
  },
  "language_info": {
   "codemirror_mode": {
    "name": "ipython",
    "version": 3
   },
   "file_extension": ".py",
   "mimetype": "text/x-python",
   "name": "python",
   "nbconvert_exporter": "python",
   "pygments_lexer": "ipython3",
   "version": "3.8.13"
  }
 },
 "nbformat": 4,
 "nbformat_minor": 4
}
