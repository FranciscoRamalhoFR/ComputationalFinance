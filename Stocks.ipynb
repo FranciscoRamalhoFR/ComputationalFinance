{
 "cells": [
  {
   "cell_type": "markdown",
   "metadata": {},
   "source": [
    "<h1><center> COMPUTATIONAL FINANCE - STOCKS</center></h1> \n",
    "<h3><center> In this notebook I will analyse 5 tech companies stocks returns from 2012 to present date. For this purpose I will retireve data from Yahoo Finance. </center></h3> \n",
    "<h5><center> Francisco Ramalho </center></h5> \n",
    "<h5><center> October 2020 </center></h5> "
   ]
  },
  {
   "cell_type": "markdown",
   "metadata": {},
   "source": [
    "-------------------------------------------------------------"
   ]
  },
  {
   "cell_type": "markdown",
   "metadata": {
    "colab_type": "text",
    "id": "Xv1W_urXnV6c",
    "tags": []
   },
   "source": [
    "<h3 style='color:#5F6A6E' > Index:</h3>\n",
    "\n",
    "<strong >1.</strong> [Getting historical data (close price and volume)](#section1) <p>\n",
    "<strong>2.</strong> [Plotting the cumulative returns of the stocks on a single chart](#section2) <p>\n",
    "<strong>3.</strong> [Creating the correlation matrix of the daily returns](#section3) <p>\n",
    "<strong>4.</strong> [Saving the data (close price and volume) to a CSV file for each ticker](#section4) <p>\n",
    "<strong>5.</strong> [Loading the data from the CSV files into a single DataFrame](#section5)<p>    "
   ]
  },
  {
   "cell_type": "markdown",
   "metadata": {},
   "source": [
    "Tech companies in analysis:\n",
    "\n",
    "     NVIDIA Corporation\n",
    "     Advanced Micro Devices, Inc.\n",
    "     Taiwan Semiconductor Manufacturing Company Limited\n",
    "     Intel Corporation\n",
    "     QUALCOMM Incorporated"
   ]
  },
  {
   "cell_type": "markdown",
   "metadata": {
    "tags": []
   },
   "source": [
    "<a id=\"section1\">\n",
    "<h3 style='color:#5F6A6E' > 1. Getting historical data (close price and volume)</h3>"
   ]
  },
  {
   "cell_type": "code",
   "execution_count": 1,
   "metadata": {},
   "outputs": [],
   "source": [
    "import yfinance as yf\n",
    "import pandas as pd\n",
    "from datetime import date\n",
    "import numpy as np\n",
    "import matplotlib.pyplot as plt\n",
    "\n",
    "today = date.today()\n",
    "startdate = date(2012,1,1)\n",
    "\n",
    "TickersDict={\n",
    "      \"NVIDIA\" : \"NVDA\",        #NVIDIA Corporation\n",
    "      \"AMD\" : \"AMD\",            #Advanced Micro Devices, Inc.\n",
    "      \"TSMC\" : \"TSM\",           #Taiwan Semiconductor Manufacturing Company Limited\n",
    "      \"INTEL\" : \"INTC\",         #Intel Corporation\n",
    "      \"QUALCOMM\" : \"QCOM\"       #QUALCOMM Incorporated\n",
    "      }\n",
    "\n",
    "DataFrameDict={}\n",
    "for key in TickersDict:\n",
    "    DataFrameDict[key]=yf.download(TickersDict[key], start=startdate, end=today, progress=False)[['Close','Volume']]\n",
    "\n",
    "TechCompaniesClosePrice=pd.DataFrame()\n",
    "for key in DataFrameDict:\n",
    "    DataFrameAux=DataFrameDict[key][['Close']]\n",
    "    DataFrameAux.columns=[key]\n",
    "    TechCompaniesClosePrice=pd.concat([TechCompaniesClosePrice,DataFrameAux], axis=1)"
   ]
  },
  {
   "cell_type": "markdown",
   "metadata": {},
   "source": [
    "TickersDict is a dictionary that contains the shortname of each company (KEY) and its correspondent ticker in YahooFinance (VALUES)\n",
    "\n",
    "DataFrameDict is a dictionary that contains the shortname of each company (KEY) and the correspondent VALUES are dataframes containing Close price and Volume of the company's stock\n",
    "\n",
    "TechCompaniesClosePrice is a dataframe. Each column represents a company, each row represent the stock price"
   ]
  },
  {
   "cell_type": "code",
   "execution_count": 2,
   "metadata": {},
   "outputs": [
    {
     "data": {
      "text/plain": [
       "{'NVIDIA': 'NVDA',\n",
       " 'AMD': 'AMD',\n",
       " 'TSMC': 'TSM',\n",
       " 'INTEL': 'INTC',\n",
       " 'QUALCOMM': 'QCOM'}"
      ]
     },
     "execution_count": 2,
     "metadata": {},
     "output_type": "execute_result"
    }
   ],
   "source": [
    "TickersDict"
   ]
  },
  {
   "cell_type": "code",
   "execution_count": 3,
   "metadata": {},
   "outputs": [
    {
     "data": {
      "text/plain": [
       "{'NVIDIA':                  Close    Volume\n",
       " Date                            \n",
       " 2012-01-03    3.510000  46804400\n",
       " 2012-01-04    3.550000  34737200\n",
       " 2012-01-05    3.677500  56354800\n",
       " 2012-01-06    3.635000  53325200\n",
       " 2012-01-09    3.635000  50824400\n",
       " ...                ...       ...\n",
       " 2022-07-11  151.520004  43732100\n",
       " 2022-07-12  150.820007  45848300\n",
       " 2022-07-13  151.639999  52191800\n",
       " 2022-07-14  153.720001  45623500\n",
       " 2022-07-15  157.619995  38447100\n",
       " \n",
       " [2651 rows x 2 columns],\n",
       " 'AMD':                 Close    Volume\n",
       " Date                           \n",
       " 2012-01-03   5.480000  12675100\n",
       " 2012-01-04   5.460000   8034900\n",
       " 2012-01-05   5.460000  11476900\n",
       " 2012-01-06   5.430000  12938600\n",
       " 2012-01-09   5.590000  12585400\n",
       " ...               ...       ...\n",
       " 2022-07-11  76.949997  76150300\n",
       " 2022-07-12  76.360001  77873200\n",
       " 2022-07-13  77.519997  79355000\n",
       " 2022-07-14  78.599998  83493600\n",
       " 2022-07-15  81.110001  75977400\n",
       " \n",
       " [2651 rows x 2 columns],\n",
       " 'TSMC':                 Close    Volume\n",
       " Date                           \n",
       " 2012-01-03  13.260000   8910500\n",
       " 2012-01-04  13.140000   7386600\n",
       " 2012-01-05  13.260000  10306100\n",
       " 2012-01-06  13.150000   7775800\n",
       " 2012-01-09  13.380000   7543100\n",
       " ...               ...       ...\n",
       " 2022-07-11  79.110001   9519600\n",
       " 2022-07-12  79.099998  10363700\n",
       " 2022-07-13  81.290001  14706500\n",
       " 2022-07-14  83.669998  23377000\n",
       " 2022-07-15  85.629997  14056400\n",
       " \n",
       " [2651 rows x 2 columns],\n",
       " 'INTEL':                 Close    Volume\n",
       " Date                           \n",
       " 2012-01-03  24.540001  44845600\n",
       " 2012-01-04  25.110001  47504000\n",
       " 2012-01-05  25.400000  49490600\n",
       " 2012-01-06  25.250000  36343500\n",
       " 2012-01-09  25.469999  47478600\n",
       " ...               ...       ...\n",
       " 2022-07-11  37.200001  25904300\n",
       " 2022-07-12  37.209999  30546300\n",
       " 2022-07-13  37.209999  27059200\n",
       " 2022-07-14  37.709999  36690700\n",
       " 2022-07-15  38.619999  32830900\n",
       " \n",
       " [2651 rows x 2 columns],\n",
       " 'QUALCOMM':                  Close    Volume\n",
       " Date                            \n",
       " 2012-01-03   55.270000  11238300\n",
       " 2012-01-04   55.830002  17589100\n",
       " 2012-01-05   56.060001  11518500\n",
       " 2012-01-06   56.160000   8040100\n",
       " 2012-01-09   55.910000  12663500\n",
       " ...                ...       ...\n",
       " 2022-07-11  132.240005   5887200\n",
       " 2022-07-12  132.949997   5991300\n",
       " 2022-07-13  135.639999   7200200\n",
       " 2022-07-14  141.899994  10718700\n",
       " 2022-07-15  144.369995  11845000\n",
       " \n",
       " [2651 rows x 2 columns]}"
      ]
     },
     "execution_count": 3,
     "metadata": {},
     "output_type": "execute_result"
    }
   ],
   "source": [
    "DataFrameDict"
   ]
  },
  {
   "cell_type": "code",
   "execution_count": 4,
   "metadata": {},
   "outputs": [
    {
     "data": {
      "text/html": [
       "<div>\n",
       "<style scoped>\n",
       "    .dataframe tbody tr th:only-of-type {\n",
       "        vertical-align: middle;\n",
       "    }\n",
       "\n",
       "    .dataframe tbody tr th {\n",
       "        vertical-align: top;\n",
       "    }\n",
       "\n",
       "    .dataframe thead th {\n",
       "        text-align: right;\n",
       "    }\n",
       "</style>\n",
       "<table border=\"1\" class=\"dataframe\">\n",
       "  <thead>\n",
       "    <tr style=\"text-align: right;\">\n",
       "      <th></th>\n",
       "      <th>NVIDIA</th>\n",
       "      <th>AMD</th>\n",
       "      <th>TSMC</th>\n",
       "      <th>INTEL</th>\n",
       "      <th>QUALCOMM</th>\n",
       "    </tr>\n",
       "    <tr>\n",
       "      <th>Date</th>\n",
       "      <th></th>\n",
       "      <th></th>\n",
       "      <th></th>\n",
       "      <th></th>\n",
       "      <th></th>\n",
       "    </tr>\n",
       "  </thead>\n",
       "  <tbody>\n",
       "    <tr>\n",
       "      <th>2012-01-03</th>\n",
       "      <td>3.5100</td>\n",
       "      <td>5.48</td>\n",
       "      <td>13.26</td>\n",
       "      <td>24.540001</td>\n",
       "      <td>55.270000</td>\n",
       "    </tr>\n",
       "    <tr>\n",
       "      <th>2012-01-04</th>\n",
       "      <td>3.5500</td>\n",
       "      <td>5.46</td>\n",
       "      <td>13.14</td>\n",
       "      <td>25.110001</td>\n",
       "      <td>55.830002</td>\n",
       "    </tr>\n",
       "    <tr>\n",
       "      <th>2012-01-05</th>\n",
       "      <td>3.6775</td>\n",
       "      <td>5.46</td>\n",
       "      <td>13.26</td>\n",
       "      <td>25.400000</td>\n",
       "      <td>56.060001</td>\n",
       "    </tr>\n",
       "    <tr>\n",
       "      <th>2012-01-06</th>\n",
       "      <td>3.6350</td>\n",
       "      <td>5.43</td>\n",
       "      <td>13.15</td>\n",
       "      <td>25.250000</td>\n",
       "      <td>56.160000</td>\n",
       "    </tr>\n",
       "    <tr>\n",
       "      <th>2012-01-09</th>\n",
       "      <td>3.6350</td>\n",
       "      <td>5.59</td>\n",
       "      <td>13.38</td>\n",
       "      <td>25.469999</td>\n",
       "      <td>55.910000</td>\n",
       "    </tr>\n",
       "  </tbody>\n",
       "</table>\n",
       "</div>"
      ],
      "text/plain": [
       "            NVIDIA   AMD   TSMC      INTEL   QUALCOMM\n",
       "Date                                                 \n",
       "2012-01-03  3.5100  5.48  13.26  24.540001  55.270000\n",
       "2012-01-04  3.5500  5.46  13.14  25.110001  55.830002\n",
       "2012-01-05  3.6775  5.46  13.26  25.400000  56.060001\n",
       "2012-01-06  3.6350  5.43  13.15  25.250000  56.160000\n",
       "2012-01-09  3.6350  5.59  13.38  25.469999  55.910000"
      ]
     },
     "execution_count": 4,
     "metadata": {},
     "output_type": "execute_result"
    }
   ],
   "source": [
    "TechCompaniesClosePrice.head()"
   ]
  },
  {
   "cell_type": "markdown",
   "metadata": {
    "tags": []
   },
   "source": [
    "<a id=\"section2\">\n",
    "<h3 style='color:#5F6A6E' > 2. Plotting the cumulative returns of the stocks on a single chart</h3>"
   ]
  },
  {
   "cell_type": "code",
   "execution_count": 5,
   "metadata": {},
   "outputs": [
    {
     "data": {
      "image/png": "[encoded data removed]",
      "text/plain": [
       "<Figure size 864x360 with 1 Axes>"
      ]
     },
     "metadata": {
      "needs_background": "light"
     },
     "output_type": "display_data"
    }
   ],
   "source": [
    "DailyLogReturns=TechCompaniesClosePrice.apply(np.log).diff()\n",
    "CumulativeReturns=DailyLogReturns.cumsum().apply(np.exp)\n",
    "\n",
    "ax = CumulativeReturns.plot(linewidth=0.7,figsize=(12,5))"
   ]
  },
  {
   "cell_type": "markdown",
   "metadata": {
    "tags": []
   },
   "source": [
    "<a id=\"section3\">\n",
    "<h3 style='color:#5F6A6E' > 3. Creating the correlation matrix of the daily returns</h3>"
   ]
  },
  {
   "cell_type": "code",
   "execution_count": 6,
   "metadata": {},
   "outputs": [
    {
     "data": {
      "text/html": [
       "<div>\n",
       "<style scoped>\n",
       "    .dataframe tbody tr th:only-of-type {\n",
       "        vertical-align: middle;\n",
       "    }\n",
       "\n",
       "    .dataframe tbody tr th {\n",
       "        vertical-align: top;\n",
       "    }\n",
       "\n",
       "    .dataframe thead th {\n",
       "        text-align: right;\n",
       "    }\n",
       "</style>\n",
       "<table border=\"1\" class=\"dataframe\">\n",
       "  <thead>\n",
       "    <tr style=\"text-align: right;\">\n",
       "      <th></th>\n",
       "      <th>NVIDIA</th>\n",
       "      <th>AMD</th>\n",
       "      <th>TSMC</th>\n",
       "      <th>INTEL</th>\n",
       "      <th>QUALCOMM</th>\n",
       "    </tr>\n",
       "  </thead>\n",
       "  <tbody>\n",
       "    <tr>\n",
       "      <th>NVIDIA</th>\n",
       "      <td>1.000000</td>\n",
       "      <td>0.538254</td>\n",
       "      <td>0.533823</td>\n",
       "      <td>0.526478</td>\n",
       "      <td>0.525478</td>\n",
       "    </tr>\n",
       "    <tr>\n",
       "      <th>AMD</th>\n",
       "      <td>0.538254</td>\n",
       "      <td>1.000000</td>\n",
       "      <td>0.396969</td>\n",
       "      <td>0.369134</td>\n",
       "      <td>0.388136</td>\n",
       "    </tr>\n",
       "    <tr>\n",
       "      <th>TSMC</th>\n",
       "      <td>0.533823</td>\n",
       "      <td>0.396969</td>\n",
       "      <td>1.000000</td>\n",
       "      <td>0.498677</td>\n",
       "      <td>0.523202</td>\n",
       "    </tr>\n",
       "    <tr>\n",
       "      <th>INTEL</th>\n",
       "      <td>0.526478</td>\n",
       "      <td>0.369134</td>\n",
       "      <td>0.498677</td>\n",
       "      <td>1.000000</td>\n",
       "      <td>0.503688</td>\n",
       "    </tr>\n",
       "    <tr>\n",
       "      <th>QUALCOMM</th>\n",
       "      <td>0.525478</td>\n",
       "      <td>0.388136</td>\n",
       "      <td>0.523202</td>\n",
       "      <td>0.503688</td>\n",
       "      <td>1.000000</td>\n",
       "    </tr>\n",
       "  </tbody>\n",
       "</table>\n",
       "</div>"
      ],
      "text/plain": [
       "            NVIDIA       AMD      TSMC     INTEL  QUALCOMM\n",
       "NVIDIA    1.000000  0.538254  0.533823  0.526478  0.525478\n",
       "AMD       0.538254  1.000000  0.396969  0.369134  0.388136\n",
       "TSMC      0.533823  0.396969  1.000000  0.498677  0.523202\n",
       "INTEL     0.526478  0.369134  0.498677  1.000000  0.503688\n",
       "QUALCOMM  0.525478  0.388136  0.523202  0.503688  1.000000"
      ]
     },
     "execution_count": 6,
     "metadata": {},
     "output_type": "execute_result"
    }
   ],
   "source": [
    "cov_matrix=DailyLogReturns.corr()\n",
    "cov_matrix"
   ]
  },
  {
   "cell_type": "markdown",
   "metadata": {
    "tags": []
   },
   "source": [
    "<a id=\"section4\">\n",
    "<h3 style='color:#5F6A6E' > 4. Saving the data (close price and volume) to a CSV file for each ticker</h3>"
   ]
  },
  {
   "cell_type": "code",
   "execution_count": 7,
   "metadata": {},
   "outputs": [],
   "source": [
    "for key in DataFrameDict:\n",
    "    DataFrameDict[key].to_csv(key + '.csv', index=True)"
   ]
  },
  {
   "cell_type": "code",
   "execution_count": 8,
   "metadata": {},
   "outputs": [
    {
     "data": {
      "text/plain": [
       "['AMD.csv', 'INTEL.csv', 'NVIDIA.csv', 'QUALCOMM.csv', 'TSMC.csv']"
      ]
     },
     "execution_count": 8,
     "metadata": {},
     "output_type": "execute_result"
    }
   ],
   "source": [
    "import os\n",
    "import glob\n",
    "path=os.path.abspath(os.getcwd())\n",
    "os.chdir(path)\n",
    "result = glob.glob('*.{}'.format('csv'))\n",
    "result"
   ]
  },
  {
   "cell_type": "markdown",
   "metadata": {
    "tags": []
   },
   "source": [
    "<a id=\"section5\">\n",
    "<h3 style='color:#5F6A6E' > 5. Loading the data from the CSV files into a single DataFrame</h3>"
   ]
  },
  {
   "cell_type": "code",
   "execution_count": 9,
   "metadata": {},
   "outputs": [
    {
     "data": {
      "text/html": [
       "<div>\n",
       "<style scoped>\n",
       "    .dataframe tbody tr th:only-of-type {\n",
       "        vertical-align: middle;\n",
       "    }\n",
       "\n",
       "    .dataframe tbody tr th {\n",
       "        vertical-align: top;\n",
       "    }\n",
       "\n",
       "    .dataframe thead th {\n",
       "        text-align: right;\n",
       "    }\n",
       "</style>\n",
       "<table border=\"1\" class=\"dataframe\">\n",
       "  <thead>\n",
       "    <tr style=\"text-align: right;\">\n",
       "      <th></th>\n",
       "      <th>NVIDIA</th>\n",
       "      <th>AMD</th>\n",
       "      <th>TSMC</th>\n",
       "      <th>INTEL</th>\n",
       "      <th>QUALCOMM</th>\n",
       "    </tr>\n",
       "    <tr>\n",
       "      <th>Date</th>\n",
       "      <th></th>\n",
       "      <th></th>\n",
       "      <th></th>\n",
       "      <th></th>\n",
       "      <th></th>\n",
       "    </tr>\n",
       "  </thead>\n",
       "  <tbody>\n",
       "    <tr>\n",
       "      <th>2012-01-03</th>\n",
       "      <td>3.5100</td>\n",
       "      <td>5.48</td>\n",
       "      <td>13.26</td>\n",
       "      <td>24.540001</td>\n",
       "      <td>55.270000</td>\n",
       "    </tr>\n",
       "    <tr>\n",
       "      <th>2012-01-04</th>\n",
       "      <td>3.5500</td>\n",
       "      <td>5.46</td>\n",
       "      <td>13.14</td>\n",
       "      <td>25.110001</td>\n",
       "      <td>55.830002</td>\n",
       "    </tr>\n",
       "    <tr>\n",
       "      <th>2012-01-05</th>\n",
       "      <td>3.6775</td>\n",
       "      <td>5.46</td>\n",
       "      <td>13.26</td>\n",
       "      <td>25.400000</td>\n",
       "      <td>56.060001</td>\n",
       "    </tr>\n",
       "    <tr>\n",
       "      <th>2012-01-06</th>\n",
       "      <td>3.6350</td>\n",
       "      <td>5.43</td>\n",
       "      <td>13.15</td>\n",
       "      <td>25.250000</td>\n",
       "      <td>56.160000</td>\n",
       "    </tr>\n",
       "    <tr>\n",
       "      <th>2012-01-09</th>\n",
       "      <td>3.6350</td>\n",
       "      <td>5.59</td>\n",
       "      <td>13.38</td>\n",
       "      <td>25.469999</td>\n",
       "      <td>55.910000</td>\n",
       "    </tr>\n",
       "  </tbody>\n",
       "</table>\n",
       "</div>"
      ],
      "text/plain": [
       "            NVIDIA   AMD   TSMC      INTEL   QUALCOMM\n",
       "Date                                                 \n",
       "2012-01-03  3.5100  5.48  13.26  24.540001  55.270000\n",
       "2012-01-04  3.5500  5.46  13.14  25.110001  55.830002\n",
       "2012-01-05  3.6775  5.46  13.26  25.400000  56.060001\n",
       "2012-01-06  3.6350  5.43  13.15  25.250000  56.160000\n",
       "2012-01-09  3.6350  5.59  13.38  25.469999  55.910000"
      ]
     },
     "execution_count": 9,
     "metadata": {},
     "output_type": "execute_result"
    }
   ],
   "source": [
    "NewDataFrame=pd.DataFrame()\n",
    "for key in DataFrameDict:\n",
    "    NewDataFrame=pd.concat([NewDataFrame,pd.read_csv(key + '.csv', index_col='Date',usecols=[0,1], names=['Date',key],header=0)], axis=1)\n",
    "NewDataFrame.head()"
   ]
  }
 ],
 "metadata": {
  "kernelspec": {
   "display_name": "Python 3 (ipykernel)",
   "language": "python",
   "name": "python3"
  },
  "language_info": {
   "codemirror_mode": {
    "name": "ipython",
    "version": 3
   },
   "file_extension": ".py",
   "mimetype": "text/x-python",
   "name": "python",
   "nbconvert_exporter": "python",
   "pygments_lexer": "ipython3",
   "version": "3.8.13"
  }
 },
 "nbformat": 4,
 "nbformat_minor": 4
}
